{
 "cells": [
  {
   "cell_type": "markdown",
   "id": "914ef33f",
   "metadata": {},
   "source": [
    "## Imports"
   ]
  },
  {
   "cell_type": "code",
   "execution_count": 1,
   "id": "8ce2838d",
   "metadata": {},
   "outputs": [],
   "source": [
    "import allel\n",
    "import numpy as np\n",
    "import zarr\n",
    "import pandas as pd\n",
    "import matplotlib.pyplot as plt\n",
    "import seaborn as sns\n",
    "from Bio.Seq import Seq\n",
    "from Bio import SeqIO\n",
    "from Bio.SeqRecord import SeqRecord\n",
    "import collections\n",
    "from tqdm import tqdm\n",
    "tqdm.pandas()\n",
    "%matplotlib inline"
   ]
  },
  {
   "cell_type": "code",
   "execution_count": 2,
   "id": "215772f5",
   "metadata": {},
   "outputs": [],
   "source": [
    "def df_to_zarr(df, path):\n",
    "    for i in range(len(df.columns)):\n",
    "\n",
    "        # Saving each column array to a separate zarr folder:\n",
    "        col_name = df.columns[i]\n",
    "        array = df[col_name].values\n",
    "\n",
    "        # If dtype of array is object, save it as a string array instead:\n",
    "        if array.dtype == 'O':\n",
    "            array = array.astype('U')\n",
    "\n",
    "        # Changing folder name according to col. name:\n",
    "        save_loc = path + col_name\n",
    "        zarr.save(save_loc, array)"
   ]
  },
  {
   "cell_type": "code",
   "execution_count": 3,
   "id": "fa7c9572",
   "metadata": {},
   "outputs": [],
   "source": [
    "def DAF(AA, REF, ALT, AF):\n",
    "    \n",
    "    if AA == '.' or AA == 'N': # returning nan for rows without confirmed AA\n",
    "        return np.nan\n",
    "    \n",
    "    elif AA == REF: # if the AA matches REF allele then the remainder i.e. AF is the DAF\n",
    "        return AF\n",
    "    \n",
    "    elif AA == ALT: # if AA matches ALT then remainder = 1 - AF\n",
    "        return 1 - AF\n",
    "    \n",
    "    elif AA != REF and AA != ALT:\n",
    "        return 1"
   ]
  },
  {
   "cell_type": "markdown",
   "id": "5362d15a",
   "metadata": {},
   "source": [
    "## Extract Zarr"
   ]
  },
  {
   "cell_type": "code",
   "execution_count": 4,
   "id": "a479570b",
   "metadata": {},
   "outputs": [],
   "source": [
    "zarr_path = '../data/ALL_30X_Chr22_GR38.zarr/'\n",
    "ancestral_allele_fa = '../data/homo_sapiens_ancestor_GRCh38/homo_sapiens_ancestor_22.fa'"
   ]
  },
  {
   "cell_type": "code",
   "execution_count": 5,
   "id": "81cb6791",
   "metadata": {},
   "outputs": [
    {
     "data": {
      "text/plain": [
       "<zarr.hierarchy.Group '/'>"
      ]
     },
     "execution_count": 5,
     "metadata": {},
     "output_type": "execute_result"
    }
   ],
   "source": [
    "# Create callset group:\n",
    "callset_h1k = zarr.open_group(zarr_path)\n",
    "callset_h1k"
   ]
  },
  {
   "cell_type": "code",
   "execution_count": 6,
   "id": "9a49ce30",
   "metadata": {},
   "outputs": [
    {
     "data": {
      "application/vnd.jupyter.widget-view+json": {
       "model_id": "be88d35fc73d4423a1631fc0669880f6",
       "version_major": 2,
       "version_minor": 0
      },
      "text/plain": [
       "Tree(nodes=(Node(disabled=True, name='/', nodes=(Node(disabled=True, name='22', nodes=(Node(disabled=True, nam…"
      ]
     },
     "metadata": {},
     "output_type": "display_data"
    }
   ],
   "source": [
    "callset_h1k.tree(expand=True)"
   ]
  },
  {
   "cell_type": "markdown",
   "id": "c3299cac",
   "metadata": {},
   "source": [
    "___\n",
    "## Calculating derived allele frequency using known REF and ALT allele frequencies.\n",
    "1. Generating known AF table\n",
    "2. Importing multiple alignment based ancestral allele from ensembl release v105 available [here](http://ftp.ensembl.org/pub/release-105/fasta/ancestral_alleles/homo_sapiens_ancestor_GRCh38.tar.gz). \n",
    "2. Merging on position to match ancestral allele to SNV\n",
    "3. A derived allele is an allele that arises due to mutation, therefore DAF is allele frequency of NOT AA.\\\n",
    "   If AA = REF then DAF = AF\\\n",
    "   If AA == ALT then DAF = 1-AF\\\n",
    "   IF AA != REF AND AA != ALT then DAF = 1"
   ]
  },
  {
   "cell_type": "markdown",
   "id": "c3225ce5",
   "metadata": {},
   "source": [
    "## 1\n",
    "Generating known AF table"
   ]
  },
  {
   "cell_type": "code",
   "execution_count": 7,
   "id": "20b4b371",
   "metadata": {},
   "outputs": [],
   "source": [
    "chrom = \"22\"\n",
    "calldata = callset_h1k[chrom]['calldata']\n",
    "variants = callset_h1k[chrom]['variants']"
   ]
  },
  {
   "cell_type": "code",
   "execution_count": 8,
   "id": "8b106660",
   "metadata": {},
   "outputs": [],
   "source": [
    "pops = ['AFR', 'AMR', 'EAS', 'EUR', 'SAS']"
   ]
  },
  {
   "cell_type": "code",
   "execution_count": 9,
   "id": "26f2095d",
   "metadata": {
    "scrolled": true
   },
   "outputs": [
    {
     "data": {
      "text/html": [
       "<div>\n",
       "<style scoped>\n",
       "    .dataframe tbody tr th:only-of-type {\n",
       "        vertical-align: middle;\n",
       "    }\n",
       "\n",
       "    .dataframe tbody tr th {\n",
       "        vertical-align: top;\n",
       "    }\n",
       "\n",
       "    .dataframe thead th {\n",
       "        text-align: right;\n",
       "    }\n",
       "</style>\n",
       "<table border=\"1\" class=\"dataframe\">\n",
       "  <thead>\n",
       "    <tr style=\"text-align: right;\">\n",
       "      <th></th>\n",
       "      <th>AF_AFR_unrel</th>\n",
       "      <th>AF_AMR_unrel</th>\n",
       "      <th>AF_EAS_unrel</th>\n",
       "      <th>AF_EUR_unrel</th>\n",
       "      <th>AF_SAS_unrel</th>\n",
       "    </tr>\n",
       "  </thead>\n",
       "  <tbody>\n",
       "    <tr>\n",
       "      <th>0</th>\n",
       "      <td>0.000000</td>\n",
       "      <td>0.000000</td>\n",
       "      <td>0.000000</td>\n",
       "      <td>0.0</td>\n",
       "      <td>0.002525</td>\n",
       "    </tr>\n",
       "    <tr>\n",
       "      <th>1</th>\n",
       "      <td>0.000000</td>\n",
       "      <td>0.000000</td>\n",
       "      <td>0.001563</td>\n",
       "      <td>0.0</td>\n",
       "      <td>0.000000</td>\n",
       "    </tr>\n",
       "    <tr>\n",
       "      <th>2</th>\n",
       "      <td>0.000000</td>\n",
       "      <td>0.003876</td>\n",
       "      <td>0.000000</td>\n",
       "      <td>0.0</td>\n",
       "      <td>0.000000</td>\n",
       "    </tr>\n",
       "    <tr>\n",
       "      <th>3</th>\n",
       "      <td>0.005988</td>\n",
       "      <td>0.007692</td>\n",
       "      <td>0.000000</td>\n",
       "      <td>0.0</td>\n",
       "      <td>0.000000</td>\n",
       "    </tr>\n",
       "    <tr>\n",
       "      <th>4</th>\n",
       "      <td>0.000000</td>\n",
       "      <td>0.000000</td>\n",
       "      <td>0.000000</td>\n",
       "      <td>0.0</td>\n",
       "      <td>0.004386</td>\n",
       "    </tr>\n",
       "  </tbody>\n",
       "</table>\n",
       "</div>"
      ],
      "text/plain": [
       "   AF_AFR_unrel  AF_AMR_unrel  AF_EAS_unrel  AF_EUR_unrel  AF_SAS_unrel\n",
       "0      0.000000      0.000000      0.000000           0.0      0.002525\n",
       "1      0.000000      0.000000      0.001563           0.0      0.000000\n",
       "2      0.000000      0.003876      0.000000           0.0      0.000000\n",
       "3      0.005988      0.007692      0.000000           0.0      0.000000\n",
       "4      0.000000      0.000000      0.000000           0.0      0.004386"
      ]
     },
     "execution_count": 9,
     "metadata": {},
     "output_type": "execute_result"
    }
   ],
   "source": [
    "AF_names = [f'AF_{country}_unrel' for country in pops]\n",
    "AF_data = [[x[0] for x in variants[col][:]] for col in AF_names]\n",
    "AF_df = pd.DataFrame({AF_names[i]: AF_data[i] for i in range(len(AF_names))})\n",
    "AF_df.head()"
   ]
  },
  {
   "cell_type": "code",
   "execution_count": 10,
   "id": "55a492be",
   "metadata": {},
   "outputs": [
    {
     "data": {
      "text/html": [
       "<div>\n",
       "<style scoped>\n",
       "    .dataframe tbody tr th:only-of-type {\n",
       "        vertical-align: middle;\n",
       "    }\n",
       "\n",
       "    .dataframe tbody tr th {\n",
       "        vertical-align: top;\n",
       "    }\n",
       "\n",
       "    .dataframe thead th {\n",
       "        text-align: right;\n",
       "    }\n",
       "</style>\n",
       "<table border=\"1\" class=\"dataframe\">\n",
       "  <thead>\n",
       "    <tr style=\"text-align: right;\">\n",
       "      <th></th>\n",
       "      <th>POS</th>\n",
       "      <th>REF</th>\n",
       "      <th>ALT</th>\n",
       "      <th>AF_AFR_unrel</th>\n",
       "      <th>AF_AMR_unrel</th>\n",
       "      <th>AF_EAS_unrel</th>\n",
       "      <th>AF_EUR_unrel</th>\n",
       "      <th>AF_SAS_unrel</th>\n",
       "    </tr>\n",
       "  </thead>\n",
       "  <tbody>\n",
       "    <tr>\n",
       "      <th>0</th>\n",
       "      <td>10510061</td>\n",
       "      <td>A</td>\n",
       "      <td>T</td>\n",
       "      <td>0.000000</td>\n",
       "      <td>0.000000</td>\n",
       "      <td>0.000000</td>\n",
       "      <td>0.0</td>\n",
       "      <td>0.002525</td>\n",
       "    </tr>\n",
       "    <tr>\n",
       "      <th>1</th>\n",
       "      <td>10510077</td>\n",
       "      <td>C</td>\n",
       "      <td>A</td>\n",
       "      <td>0.000000</td>\n",
       "      <td>0.000000</td>\n",
       "      <td>0.001563</td>\n",
       "      <td>0.0</td>\n",
       "      <td>0.000000</td>\n",
       "    </tr>\n",
       "    <tr>\n",
       "      <th>2</th>\n",
       "      <td>10510103</td>\n",
       "      <td>A</td>\n",
       "      <td>T</td>\n",
       "      <td>0.000000</td>\n",
       "      <td>0.003876</td>\n",
       "      <td>0.000000</td>\n",
       "      <td>0.0</td>\n",
       "      <td>0.000000</td>\n",
       "    </tr>\n",
       "    <tr>\n",
       "      <th>3</th>\n",
       "      <td>10510105</td>\n",
       "      <td>T</td>\n",
       "      <td>A</td>\n",
       "      <td>0.005988</td>\n",
       "      <td>0.007692</td>\n",
       "      <td>0.000000</td>\n",
       "      <td>0.0</td>\n",
       "      <td>0.000000</td>\n",
       "    </tr>\n",
       "    <tr>\n",
       "      <th>4</th>\n",
       "      <td>10510119</td>\n",
       "      <td>A</td>\n",
       "      <td>G</td>\n",
       "      <td>0.000000</td>\n",
       "      <td>0.000000</td>\n",
       "      <td>0.000000</td>\n",
       "      <td>0.0</td>\n",
       "      <td>0.004386</td>\n",
       "    </tr>\n",
       "  </tbody>\n",
       "</table>\n",
       "</div>"
      ],
      "text/plain": [
       "        POS REF ALT  AF_AFR_unrel  AF_AMR_unrel  AF_EAS_unrel  AF_EUR_unrel  \\\n",
       "0  10510061   A   T      0.000000      0.000000      0.000000           0.0   \n",
       "1  10510077   C   A      0.000000      0.000000      0.001563           0.0   \n",
       "2  10510103   A   T      0.000000      0.003876      0.000000           0.0   \n",
       "3  10510105   T   A      0.005988      0.007692      0.000000           0.0   \n",
       "4  10510119   A   G      0.000000      0.000000      0.000000           0.0   \n",
       "\n",
       "   AF_SAS_unrel  \n",
       "0      0.002525  \n",
       "1      0.000000  \n",
       "2      0.000000  \n",
       "3      0.000000  \n",
       "4      0.004386  "
      ]
     },
     "execution_count": 10,
     "metadata": {},
     "output_type": "execute_result"
    }
   ],
   "source": [
    "info_cols = ['POS', 'REF', 'ALT']\n",
    "info_data = [variants['POS'][:], variants['REF'][:], [x[0] for x in variants['ALT'][:]]]\n",
    "info_df = pd.DataFrame({info_cols[i]: info_data[i] for i in range(len(info_cols))})\n",
    "\n",
    "AF_df = pd.concat([info_df, AF_df], axis =1)\n",
    "AF_df.head()"
   ]
  },
  {
   "cell_type": "markdown",
   "id": "556a8e4f",
   "metadata": {},
   "source": [
    "# 2\n",
    "Importing multiple alignment based ancestral allele from ensembl release v105 available [here](http://ftp.ensembl.org/pub/release-105/fasta/ancestral_alleles/homo_sapiens_ancestor_GRCh38.tar.gz). "
   ]
  },
  {
   "cell_type": "code",
   "execution_count": 11,
   "id": "b4e6f025",
   "metadata": {},
   "outputs": [
    {
     "name": "stdout",
     "output_type": "stream",
     "text": [
      "ANCESTOR_for_chromosome:GRCh38:22:1:50818468:1\n",
      "Seq('............................................................')\n",
      "50818468\n"
     ]
    }
   ],
   "source": [
    "for seq_record in SeqIO.parse(open(ancestral_allele_fa), \"fasta\"):\n",
    "    print(seq_record.id)\n",
    "    print(repr(seq_record.seq))\n",
    "    print(len(seq_record))"
   ]
  },
  {
   "cell_type": "code",
   "execution_count": 12,
   "id": "7cfaf6b8",
   "metadata": {},
   "outputs": [],
   "source": [
    "cols = ['POS', 'AA']"
   ]
  },
  {
   "cell_type": "code",
   "execution_count": 13,
   "id": "0ef31e55",
   "metadata": {},
   "outputs": [],
   "source": [
    "AA_df = pd.DataFrame.from_records(enumerate(seq_record.seq), columns =['POS', 'AA'])"
   ]
  },
  {
   "cell_type": "code",
   "execution_count": 14,
   "id": "b85ba117",
   "metadata": {},
   "outputs": [],
   "source": [
    "# +1 to pos for correct alignment.\n",
    "AA_df['POS'] = AA_df.POS.map(lambda x: x+1)"
   ]
  },
  {
   "cell_type": "markdown",
   "id": "e57a2ff9",
   "metadata": {},
   "source": [
    "## 3\n",
    "Merging on position to match ancestral allele to SNV"
   ]
  },
  {
   "cell_type": "code",
   "execution_count": 15,
   "id": "a3f7b9aa",
   "metadata": {},
   "outputs": [
    {
     "data": {
      "text/plain": [
       "POS             1927372\n",
       "REF             1927372\n",
       "ALT             1927372\n",
       "AF_AFR_unrel    1927294\n",
       "AF_AMR_unrel    1927261\n",
       "AF_EAS_unrel    1927301\n",
       "AF_EUR_unrel    1927263\n",
       "AF_SAS_unrel    1927305\n",
       "AA              1927372\n",
       "dtype: int64"
      ]
     },
     "execution_count": 15,
     "metadata": {},
     "output_type": "execute_result"
    }
   ],
   "source": [
    "AF_AA_df = AF_df.merge(AA_df, on='POS', how = 'left')\n",
    "AF_AA_df.count(axis = 0)"
   ]
  },
  {
   "cell_type": "code",
   "execution_count": 16,
   "id": "57bb2d20",
   "metadata": {},
   "outputs": [
    {
     "data": {
      "text/plain": [
       "True"
      ]
     },
     "execution_count": 16,
     "metadata": {},
     "output_type": "execute_result"
    }
   ],
   "source": [
    "#checking that there are no null values in AA column\n",
    "AF_AA_df.count(axis = 0)[\"AA\"]==AF_AA_df.shape[0]"
   ]
  },
  {
   "cell_type": "markdown",
   "id": "18674e29",
   "metadata": {},
   "source": [
    "## 4\n",
    "* A derived allele is an allele that arises due to mutation, therefore DAF is allele frequency of NOT AA.\\\n",
    "   If AA = REF then DAF = AF\\\n",
    "   If AA == ALT then DAF = 1-AF\\\n",
    "   IF AA != REF AND AA != ALT then DAF = 1\n",
    "   \n",
    "  \n",
    "The convention for the sequence is:\\\n",
    "ACTG : high-confidence call, ancestral state supported by the other two sequences\\\n",
    "actg : low-confidence call, ancestral state supported by one sequence only\\\n",
    "N    : failure, the ancestral state is not supported by any other sequence\\\n",
    "\\-    : the extant species contains an insertion at this postion\\\n",
    ".    : no coverage in the alignment\\"
   ]
  },
  {
   "cell_type": "code",
   "execution_count": 17,
   "id": "b985a501",
   "metadata": {},
   "outputs": [
    {
     "data": {
      "text/plain": [
       "C    417931\n",
       "G    409490\n",
       ".    325577\n",
       "A    233616\n",
       "T    231527\n",
       "-     93645\n",
       "c     65573\n",
       "g     64420\n",
       "a     38691\n",
       "t     38679\n",
       "N      8223\n",
       "Name: AA, dtype: int64"
      ]
     },
     "execution_count": 17,
     "metadata": {},
     "output_type": "execute_result"
    }
   ],
   "source": [
    "AF_AA_df.AA.value_counts()"
   ]
  },
  {
   "cell_type": "code",
   "execution_count": 18,
   "id": "47fa6b9d",
   "metadata": {},
   "outputs": [
    {
     "data": {
      "text/plain": [
       "C    483504\n",
       "G    473910\n",
       ".    325577\n",
       "A    272307\n",
       "T    270206\n",
       "-     93645\n",
       "N      8223\n",
       "Name: AA, dtype: int64"
      ]
     },
     "execution_count": 18,
     "metadata": {},
     "output_type": "execute_result"
    }
   ],
   "source": [
    "#changing lowercase to uppercase for comparison to REF/ALT. i.e. accepting low confidence calls.\n",
    "AF_AA_df['AA'] = AF_AA_df.AA.map(lambda x: x.upper())\n",
    "AF_AA_df['AA'].value_counts()"
   ]
  },
  {
   "cell_type": "code",
   "execution_count": 19,
   "id": "97f731e8",
   "metadata": {},
   "outputs": [
    {
     "name": "stderr",
     "output_type": "stream",
     "text": [
      "100%|████████████████████████████████████████████████████████████████████████████████████████████████████████████████████████████████████████████████████████████████████| 1927372/1927372 [00:21<00:00, 88359.44it/s]\n",
      "100%|████████████████████████████████████████████████████████████████████████████████████████████████████████████████████████████████████████████████████████████████████| 1927372/1927372 [00:21<00:00, 88748.43it/s]\n",
      "100%|████████████████████████████████████████████████████████████████████████████████████████████████████████████████████████████████████████████████████████████████████| 1927372/1927372 [00:21<00:00, 88237.83it/s]\n",
      "100%|████████████████████████████████████████████████████████████████████████████████████████████████████████████████████████████████████████████████████████████████████| 1927372/1927372 [00:21<00:00, 88459.60it/s]\n",
      "100%|████████████████████████████████████████████████████████████████████████████████████████████████████████████████████████████████████████████████████████████████████| 1927372/1927372 [00:21<00:00, 88142.61it/s]\n"
     ]
    }
   ],
   "source": [
    "for pop in pops:    \n",
    "    AF_AA_df[f'DAF_{pop}'] = AF_AA_df.progress_apply(lambda x: DAF(AA = x['AA'], REF = x['REF'],\n",
    "                                                         ALT = x['ALT'], AF = x[f'AF_{pop}_unrel']), axis=1)"
   ]
  },
  {
   "cell_type": "markdown",
   "id": "856d958c",
   "metadata": {},
   "source": [
    "### Checking for nulls and exploring DAF"
   ]
  },
  {
   "cell_type": "code",
   "execution_count": 20,
   "id": "5ec92ebc",
   "metadata": {
    "scrolled": true
   },
   "outputs": [
    {
     "data": {
      "text/plain": [
       "AA         1927372\n",
       "DAF_AFR    1593558\n",
       "DAF_AMR    1593556\n",
       "DAF_EAS    1593563\n",
       "DAF_EUR    1593558\n",
       "DAF_SAS    1593555\n",
       "dtype: int64"
      ]
     },
     "execution_count": 20,
     "metadata": {},
     "output_type": "execute_result"
    }
   ],
   "source": [
    "AF_AA_df.iloc[:,-6:].count()"
   ]
  },
  {
   "cell_type": "code",
   "execution_count": 21,
   "id": "74539542",
   "metadata": {},
   "outputs": [
    {
     "name": "stdout",
     "output_type": "stream",
     "text": [
      "Percentage of DAF = 1 in AFR: 0.09346768553242446\n",
      "Percentage of DAF = 1 in AMR: 0.10297960123940786\n",
      "Percentage of DAF = 1 in EAS: 0.1066498838833396\n",
      "Percentage of DAF = 1 in EUR: 0.10568276388782238\n",
      "Percentage of DAF = 1 in SAS: 0.1046689481843671\n"
     ]
    }
   ],
   "source": [
    "for pop,perc in zip(pops,[AF_AA_df[f'DAF_{superpop}'].value_counts()[1]/AF_AA_df.shape[0] for superpop in pops]):\n",
    "    print(f'Percentage of DAF = 1 in {pop}: {perc}')"
   ]
  },
  {
   "cell_type": "code",
   "execution_count": 22,
   "id": "caeeb68b",
   "metadata": {},
   "outputs": [
    {
     "data": {
      "image/png": "[encoded data removed]",
      "text/plain": [
       "<Figure size 720x504 with 1 Axes>"
      ]
     },
     "metadata": {
      "needs_background": "light"
     },
     "output_type": "display_data"
    }
   ],
   "source": [
    "fig, ax = plt.subplots(figsize = (10,7))\n",
    "\n",
    "afr_heights, afr_bins = np.histogram(AF_AA_df['DAF_AFR'][~np.isnan(AF_AA_df['DAF_AFR'])])\n",
    "amr_heights, amr_bins = np.histogram(AF_AA_df['DAF_AMR'][~np.isnan(AF_AA_df['DAF_AMR'])], bins=afr_bins)\n",
    "eas_heights, eas_bins = np.histogram(AF_AA_df['DAF_EAS'][~np.isnan(AF_AA_df['DAF_EAS'])], bins=afr_bins)\n",
    "eur_heights, eur_bins = np.histogram(AF_AA_df['DAF_EUR'][~np.isnan(AF_AA_df['DAF_EUR'])], bins=afr_bins)\n",
    "sas_heights, sas_bins = np.histogram(AF_AA_df['DAF_SAS'][~np.isnan(AF_AA_df['DAF_SAS'])], bins=afr_bins)\n",
    "\n",
    "width = (afr_bins[1] - afr_bins[0])/6\n",
    "plt.yscale('log')\n",
    "ax.bar(afr_bins[:-1], afr_heights, width=width, facecolor='palegreen')\n",
    "ax.bar(amr_bins[:-1]+width, amr_heights, width=width, facecolor='tomato')\n",
    "ax.bar(eas_bins[:-1]+2*width, eas_heights, width=width, facecolor='lightsalmon')\n",
    "ax.bar(eur_bins[:-1]+3*width, eur_heights, width=width, facecolor='wheat')\n",
    "ax.bar(sas_bins[:-1]+4*width, sas_heights, width=width, facecolor='darkviolet')\n",
    "ax.legend(['AFR', 'AMR', 'EAS', 'EUR', 'SAS'])\n",
    "ax.set_title('Histogram of DAF by Population')\n",
    "ax.set_ylabel('Count log10')\n",
    "ax.set_xlabel('DAF')\n",
    "sns.despine(ax=ax, offset=10)    \n",
    "plt.tight_layout()\n",
    "plt.show()"
   ]
  },
  {
   "cell_type": "markdown",
   "id": "e14e2487",
   "metadata": {},
   "source": [
    "## Saving files to zarr"
   ]
  },
  {
   "cell_type": "code",
   "execution_count": 23,
   "id": "ff65294c",
   "metadata": {},
   "outputs": [],
   "source": [
    "final_data = AF_AA_df.iloc[:, -5:]\n",
    "df_to_zarr(df=final_data, path='../data/DAF.zarr')"
   ]
  }
 ],
 "metadata": {
  "kernelspec": {
   "display_name": "Python 3 (ipykernel)",
   "language": "python",
   "name": "python3"
  },
  "language_info": {
   "codemirror_mode": {
    "name": "ipython",
    "version": 3
   },
   "file_extension": ".py",
   "mimetype": "text/x-python",
   "name": "python",
   "nbconvert_exporter": "python",
   "pygments_lexer": "ipython3",
   "version": "3.9.7"
  },
  "toc": {
   "base_numbering": 1,
   "nav_menu": {},
   "number_sections": true,
   "sideBar": true,
   "skip_h1_title": false,
   "title_cell": "Table of Contents",
   "title_sidebar": "Contents",
   "toc_cell": false,
   "toc_position": {
    "height": "calc(100% - 180px)",
    "left": "10px",
    "top": "150px",
    "width": "360.455px"
   },
   "toc_section_display": true,
   "toc_window_display": true
  }
 },
 "nbformat": 4,
 "nbformat_minor": 5
}
