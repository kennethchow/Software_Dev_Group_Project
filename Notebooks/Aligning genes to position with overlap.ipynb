{
 "cells": [
  {
   "cell_type": "markdown",
   "id": "a2b00939",
   "metadata": {},
   "source": [
    "## Imports"
   ]
  },
  {
   "cell_type": "code",
   "execution_count": 1,
   "id": "9a779fc3",
   "metadata": {},
   "outputs": [],
   "source": [
    "import allel\n",
    "import zarr\n",
    "import pandas as pd\n",
    "import numpy as np\n",
    "from collections import Counter\n",
    "import h5py\n",
    "from tqdm import tqdm\n",
    "tqdm.pandas()"
   ]
  },
  {
   "cell_type": "markdown",
   "id": "fa515c8f",
   "metadata": {},
   "source": [
    "## Functions"
   ]
  },
  {
   "cell_type": "code",
   "execution_count": 2,
   "id": "a6fd1dac",
   "metadata": {},
   "outputs": [],
   "source": [
    "def flatten(t):\n",
    "    return [item for sublist in t for item in sublist]\n",
    "\n",
    "def get_gene_coordinates(d, row):\n",
    "    for key in d.keys():\n",
    "        if key[0] <= row <= key[1]:\n",
    "            return nono_gene_info_d[key]\n",
    "            continue\n",
    "        else:\n",
    "            pass\n",
    "\n",
    "def fill_gene(overlapped_idx, n_overlaps, df):\n",
    "    # generating df of overlapped genes with up to 5 genes overlapped by 1 single gene\n",
    "    overlap_df = unique_genes.iloc[flatten([list(range(x+1,x+n_overlaps)) for x in overlapped_idx])]\n",
    "    # generating list of start end and gene name to iterate over\n",
    "    range_d = list(zip(zip(overlap_df['txStart'],overlap_df['txEnd']), overlap_df.name2))\n",
    "    \n",
    "    for ind, row in enumerate(range_d):\n",
    "        start = row[0][0]\n",
    "        end = row[0][1]\n",
    "        gene = row[1]\n",
    "        # retrieving indexes based on start and end position of genes in gene_df\n",
    "        gene_ind = df.loc[(df['POS']>=start) & (df['POS']<=end)].index\n",
    "\n",
    "        for index in gene_ind:\n",
    "            gene_df.at[index, 'GENE2'] = gene\n",
    "\n",
    "def find_overlaps(df, num_overlaps):\n",
    "    #generating a list of df values to iterate through\n",
    "    zipped = list(enumerate(zip(zip(df.txStart, df.txEnd), df.name2)))\n",
    "    overlaps = []\n",
    "\n",
    "    for index, elem in zipped:\n",
    "        #managing index range error when collecting overlapped gene indexes\n",
    "        if (index+num_overlaps < len(zipped) and index - num_overlaps >= 0):\n",
    "\n",
    "            curr_gene_txEnd = elem[0][1]\n",
    "            next_gene_txStart = zipped[index+num_overlaps][1][0][0]\n",
    "            curr_gene_name = elem[1]\n",
    "\n",
    "            if curr_gene_txEnd > next_gene_txStart:\n",
    "\n",
    "                overlaps.append(index)\n",
    "    \n",
    "    return overlaps\n",
    "\n",
    "def df_to_zarr(df, path):\n",
    "    for i in range(len(df.columns)):\n",
    "\n",
    "        # Saving each column array to a separate zarr folder:\n",
    "        col_name = df.columns[i]\n",
    "        array = df[col_name].values\n",
    "\n",
    "        # If dtype of array is object, save it as a string array instead:\n",
    "        if array.dtype == 'O':\n",
    "            array = array.astype('U')\n",
    "\n",
    "        # Changing folder name according to col. name:\n",
    "        save_loc = path + col_name\n",
    "        zarr.save(save_loc, array)"
   ]
  },
  {
   "cell_type": "markdown",
   "id": "f1f40acf",
   "metadata": {},
   "source": [
    "### Loading data"
   ]
  },
  {
   "cell_type": "code",
   "execution_count": 3,
   "id": "02605496",
   "metadata": {
    "scrolled": true
   },
   "outputs": [
    {
     "data": {
      "application/vnd.jupyter.widget-view+json": {
       "model_id": "e0f6ae995f084b6fb4cac13a65a544bf",
       "version_major": 2,
       "version_minor": 0
      },
      "text/plain": [
       "Tree(nodes=(Node(disabled=True, name='/', nodes=(Node(disabled=True, name='22', nodes=(Node(disabled=True, nam…"
      ]
     },
     "metadata": {},
     "output_type": "display_data"
    }
   ],
   "source": [
    "zarr_path = '../data/ALL_30X_Chr22_GR38.zarr/'\n",
    "gene_path = '../data/all_RefSeq_gene_names.gz'\n",
    "\n",
    "callset = zarr.open_group(zarr_path)\n",
    "callset.tree(expand=True)"
   ]
  },
  {
   "cell_type": "code",
   "execution_count": 4,
   "id": "69ac9709",
   "metadata": {},
   "outputs": [],
   "source": [
    "chrom = \"22\"\n",
    "POS = callset[chrom]['variants']['POS'][:]"
   ]
  },
  {
   "cell_type": "code",
   "execution_count": 5,
   "id": "7b9bf3f2",
   "metadata": {},
   "outputs": [],
   "source": [
    "genes = pd.read_csv(gene_path, sep = '\\t')"
   ]
  },
  {
   "cell_type": "code",
   "execution_count": 6,
   "id": "b8598d2e",
   "metadata": {},
   "outputs": [],
   "source": [
    "# drop duplicates based on 3 columns so values remaining are unique by these 3 columns. duplicate genes still exist\n",
    "# with varying txstart and txend\n",
    "genes.drop_duplicates(['txStart', 'txEnd', 'name2'], inplace = True)"
   ]
  },
  {
   "cell_type": "code",
   "execution_count": 7,
   "id": "c9089e23",
   "metadata": {},
   "outputs": [
    {
     "data": {
      "text/html": [
       "<div>\n",
       "<style scoped>\n",
       "    .dataframe tbody tr th:only-of-type {\n",
       "        vertical-align: middle;\n",
       "    }\n",
       "\n",
       "    .dataframe tbody tr th {\n",
       "        vertical-align: top;\n",
       "    }\n",
       "\n",
       "    .dataframe thead th {\n",
       "        text-align: right;\n",
       "    }\n",
       "</style>\n",
       "<table border=\"1\" class=\"dataframe\">\n",
       "  <thead>\n",
       "    <tr style=\"text-align: right;\">\n",
       "      <th></th>\n",
       "      <th>#name</th>\n",
       "      <th>txStart</th>\n",
       "      <th>txEnd</th>\n",
       "      <th>name2</th>\n",
       "    </tr>\n",
       "  </thead>\n",
       "  <tbody>\n",
       "    <tr>\n",
       "      <th>3489</th>\n",
       "      <td>XM_017028546.1</td>\n",
       "      <td>50767499</td>\n",
       "      <td>50783705</td>\n",
       "      <td>RABL2B</td>\n",
       "    </tr>\n",
       "    <tr>\n",
       "      <th>3494</th>\n",
       "      <td>XM_017028544.1</td>\n",
       "      <td>50767499</td>\n",
       "      <td>50783648</td>\n",
       "      <td>RABL2B</td>\n",
       "    </tr>\n",
       "    <tr>\n",
       "      <th>3495</th>\n",
       "      <td>XM_017028551.1</td>\n",
       "      <td>50767499</td>\n",
       "      <td>50782683</td>\n",
       "      <td>RABL2B</td>\n",
       "    </tr>\n",
       "    <tr>\n",
       "      <th>3496</th>\n",
       "      <td>NM_001350016.2</td>\n",
       "      <td>50767505</td>\n",
       "      <td>50783636</td>\n",
       "      <td>RABL2B</td>\n",
       "    </tr>\n",
       "    <tr>\n",
       "      <th>3520</th>\n",
       "      <td>XM_017028559.2</td>\n",
       "      <td>50772189</td>\n",
       "      <td>50782683</td>\n",
       "      <td>RABL2B</td>\n",
       "    </tr>\n",
       "  </tbody>\n",
       "</table>\n",
       "</div>"
      ],
      "text/plain": [
       "               #name   txStart     txEnd   name2\n",
       "3489  XM_017028546.1  50767499  50783705  RABL2B\n",
       "3494  XM_017028544.1  50767499  50783648  RABL2B\n",
       "3495  XM_017028551.1  50767499  50782683  RABL2B\n",
       "3496  NM_001350016.2  50767505  50783636  RABL2B\n",
       "3520  XM_017028559.2  50772189  50782683  RABL2B"
      ]
     },
     "execution_count": 7,
     "metadata": {},
     "output_type": "execute_result"
    }
   ],
   "source": [
    "genes[genes.name2=='RABL2B']"
   ]
  },
  {
   "cell_type": "markdown",
   "id": "7217d620",
   "metadata": {},
   "source": [
    "* Dropping duplicates"
   ]
  },
  {
   "cell_type": "code",
   "execution_count": 8,
   "id": "f753dcbe",
   "metadata": {},
   "outputs": [],
   "source": [
    "#given that the txstart and txend only vary due to lack of consensus, we accept that the first occurence of a gene\n",
    "# is representative of the correct txstart and end\n",
    "unique_genes = genes.drop_duplicates('name2', keep='first')"
   ]
  },
  {
   "cell_type": "markdown",
   "id": "05e80dd9",
   "metadata": {},
   "source": [
    "### Getting overlapping gene index"
   ]
  },
  {
   "cell_type": "markdown",
   "id": "4356969e",
   "metadata": {},
   "source": [
    "* There are genes that cover up to 5 other smaller genes within its coding region"
   ]
  },
  {
   "cell_type": "code",
   "execution_count": 9,
   "id": "6c2ec276",
   "metadata": {},
   "outputs": [
    {
     "data": {
      "text/html": [
       "<div>\n",
       "<style scoped>\n",
       "    .dataframe tbody tr th:only-of-type {\n",
       "        vertical-align: middle;\n",
       "    }\n",
       "\n",
       "    .dataframe tbody tr th {\n",
       "        vertical-align: top;\n",
       "    }\n",
       "\n",
       "    .dataframe thead th {\n",
       "        text-align: right;\n",
       "    }\n",
       "</style>\n",
       "<table border=\"1\" class=\"dataframe\">\n",
       "  <thead>\n",
       "    <tr style=\"text-align: right;\">\n",
       "      <th></th>\n",
       "      <th>#name</th>\n",
       "      <th>txStart</th>\n",
       "      <th>txEnd</th>\n",
       "      <th>name2</th>\n",
       "    </tr>\n",
       "  </thead>\n",
       "  <tbody>\n",
       "    <tr>\n",
       "      <th>1763</th>\n",
       "      <td>XM_011530410.3</td>\n",
       "      <td>32507819</td>\n",
       "      <td>32958822</td>\n",
       "      <td>SYN3</td>\n",
       "    </tr>\n",
       "    <tr>\n",
       "      <th>1777</th>\n",
       "      <td>XR_001755503.1</td>\n",
       "      <td>32578528</td>\n",
       "      <td>32587011</td>\n",
       "      <td>SYN3-AS1</td>\n",
       "    </tr>\n",
       "    <tr>\n",
       "      <th>1779</th>\n",
       "      <td>XR_938177.1</td>\n",
       "      <td>32587213</td>\n",
       "      <td>32589050</td>\n",
       "      <td>LOC105373003</td>\n",
       "    </tr>\n",
       "    <tr>\n",
       "      <th>1780</th>\n",
       "      <td>XR_001755504.1</td>\n",
       "      <td>32619341</td>\n",
       "      <td>32628543</td>\n",
       "      <td>LOC107985545</td>\n",
       "    </tr>\n",
       "    <tr>\n",
       "      <th>1781</th>\n",
       "      <td>XR_938176.3</td>\n",
       "      <td>32640947</td>\n",
       "      <td>32663267</td>\n",
       "      <td>LOC105373002</td>\n",
       "    </tr>\n",
       "    <tr>\n",
       "      <th>1782</th>\n",
       "      <td>NM_000362.5</td>\n",
       "      <td>32801704</td>\n",
       "      <td>32863041</td>\n",
       "      <td>TIMP3</td>\n",
       "    </tr>\n",
       "    <tr>\n",
       "      <th>1783</th>\n",
       "      <td>NR_134617.1</td>\n",
       "      <td>33108528</td>\n",
       "      <td>33116294</td>\n",
       "      <td>LINC01640</td>\n",
       "    </tr>\n",
       "  </tbody>\n",
       "</table>\n",
       "</div>"
      ],
      "text/plain": [
       "               #name   txStart     txEnd         name2\n",
       "1763  XM_011530410.3  32507819  32958822          SYN3\n",
       "1777  XR_001755503.1  32578528  32587011      SYN3-AS1\n",
       "1779     XR_938177.1  32587213  32589050  LOC105373003\n",
       "1780  XR_001755504.1  32619341  32628543  LOC107985545\n",
       "1781     XR_938176.3  32640947  32663267  LOC105373002\n",
       "1782     NM_000362.5  32801704  32863041         TIMP3\n",
       "1783     NR_134617.1  33108528  33116294     LINC01640"
      ]
     },
     "execution_count": 9,
     "metadata": {},
     "output_type": "execute_result"
    }
   ],
   "source": [
    "unique_genes.iloc[411:418]"
   ]
  },
  {
   "cell_type": "code",
   "execution_count": 10,
   "id": "360ec998",
   "metadata": {},
   "outputs": [],
   "source": [
    "# Lists of genes of with both the major gene and the accompanying number of minor overlapped genes \n",
    "overlaps_1=find_overlaps(unique_genes,1)\n",
    "overlaps_2=find_overlaps(unique_genes,2)\n",
    "overlaps_3=find_overlaps(unique_genes,3)\n",
    "overlaps_4=find_overlaps(unique_genes,4)\n",
    "overlaps_5=find_overlaps(unique_genes,5)"
   ]
  },
  {
   "cell_type": "code",
   "execution_count": 11,
   "id": "ede5f1a2",
   "metadata": {},
   "outputs": [
    {
     "name": "stdout",
     "output_type": "stream",
     "text": [
      "[9, 11, 13, 17, 29]\n",
      "[33, 72, 97, 102, 115]\n",
      "[33, 102, 237, 366, 411]\n",
      "[237, 411, 418, 556, 729]\n",
      "[411, 729]\n"
     ]
    }
   ],
   "source": [
    "print(overlaps_1[:5])\n",
    "print(overlaps_2[:5])\n",
    "print(overlaps_3[:5])\n",
    "print(overlaps_4[:5])\n",
    "print(overlaps_5[:5])"
   ]
  },
  {
   "cell_type": "code",
   "execution_count": 12,
   "id": "bd1e912a",
   "metadata": {},
   "outputs": [],
   "source": [
    "#de-duplicating overlapped genes, duplicates exist because of function logic\n",
    "dd_overlaps_1 = [x for x in overlaps_1 if x not in overlaps_2]\n",
    "dd_overlaps_2 = [x for x in overlaps_2 if x not in overlaps_3]\n",
    "dd_overlaps_3 = [x for x in overlaps_3 if x not in overlaps_4]\n",
    "dd_overlaps_4 = [x for x in overlaps_4 if x not in overlaps_5]"
   ]
  },
  {
   "cell_type": "code",
   "execution_count": 13,
   "id": "b2ed1fb4",
   "metadata": {},
   "outputs": [],
   "source": [
    "all_overlap_indexes = [dd_overlaps_1,dd_overlaps_2,dd_overlaps_3,dd_overlaps_4,overlaps_5]"
   ]
  },
  {
   "cell_type": "markdown",
   "id": "50d240bc",
   "metadata": {},
   "source": [
    "Generating empty df with type str for compatibility when assigning using .at"
   ]
  },
  {
   "cell_type": "code",
   "execution_count": 14,
   "id": "be91b4a2",
   "metadata": {},
   "outputs": [
    {
     "data": {
      "text/html": [
       "<div>\n",
       "<style scoped>\n",
       "    .dataframe tbody tr th:only-of-type {\n",
       "        vertical-align: middle;\n",
       "    }\n",
       "\n",
       "    .dataframe tbody tr th {\n",
       "        vertical-align: top;\n",
       "    }\n",
       "\n",
       "    .dataframe thead th {\n",
       "        text-align: right;\n",
       "    }\n",
       "</style>\n",
       "<table border=\"1\" class=\"dataframe\">\n",
       "  <thead>\n",
       "    <tr style=\"text-align: right;\">\n",
       "      <th></th>\n",
       "      <th>POS</th>\n",
       "      <th>GENE1</th>\n",
       "      <th>GENE2</th>\n",
       "    </tr>\n",
       "  </thead>\n",
       "  <tbody>\n",
       "    <tr>\n",
       "      <th>0</th>\n",
       "      <td>10510061</td>\n",
       "      <td>NaN</td>\n",
       "      <td>NaN</td>\n",
       "    </tr>\n",
       "    <tr>\n",
       "      <th>1</th>\n",
       "      <td>10510077</td>\n",
       "      <td>NaN</td>\n",
       "      <td>NaN</td>\n",
       "    </tr>\n",
       "    <tr>\n",
       "      <th>2</th>\n",
       "      <td>10510103</td>\n",
       "      <td>NaN</td>\n",
       "      <td>NaN</td>\n",
       "    </tr>\n",
       "    <tr>\n",
       "      <th>3</th>\n",
       "      <td>10510105</td>\n",
       "      <td>NaN</td>\n",
       "      <td>NaN</td>\n",
       "    </tr>\n",
       "    <tr>\n",
       "      <th>4</th>\n",
       "      <td>10510119</td>\n",
       "      <td>NaN</td>\n",
       "      <td>NaN</td>\n",
       "    </tr>\n",
       "  </tbody>\n",
       "</table>\n",
       "</div>"
      ],
      "text/plain": [
       "        POS GENE1 GENE2\n",
       "0  10510061   NaN   NaN\n",
       "1  10510077   NaN   NaN\n",
       "2  10510103   NaN   NaN\n",
       "3  10510105   NaN   NaN\n",
       "4  10510119   NaN   NaN"
      ]
     },
     "execution_count": 14,
     "metadata": {},
     "output_type": "execute_result"
    }
   ],
   "source": [
    "gene_df = pd.DataFrame({'POS':pd.Series(dtype='int'),\n",
    "                        'GENE1': pd.Series(dtype='str'), 'GENE2': pd.Series(dtype='str')})\n",
    "gene_df['POS'] = POS\n",
    "gene_df.head()"
   ]
  },
  {
   "cell_type": "markdown",
   "id": "4c782127",
   "metadata": {},
   "source": [
    "### Filling in non-overlapping genes"
   ]
  },
  {
   "cell_type": "code",
   "execution_count": 15,
   "id": "f4fa191f",
   "metadata": {},
   "outputs": [],
   "source": [
    "unique_overlapping_indexes = np.unique(flatten(all_overlap_indexes))"
   ]
  },
  {
   "cell_type": "code",
   "execution_count": 16,
   "id": "1849465f",
   "metadata": {
    "scrolled": true
   },
   "outputs": [
    {
     "data": {
      "text/html": [
       "<div>\n",
       "<style scoped>\n",
       "    .dataframe tbody tr th:only-of-type {\n",
       "        vertical-align: middle;\n",
       "    }\n",
       "\n",
       "    .dataframe tbody tr th {\n",
       "        vertical-align: top;\n",
       "    }\n",
       "\n",
       "    .dataframe thead th {\n",
       "        text-align: right;\n",
       "    }\n",
       "</style>\n",
       "<table border=\"1\" class=\"dataframe\">\n",
       "  <thead>\n",
       "    <tr style=\"text-align: right;\">\n",
       "      <th></th>\n",
       "      <th>#name</th>\n",
       "      <th>txStart</th>\n",
       "      <th>txEnd</th>\n",
       "      <th>name2</th>\n",
       "    </tr>\n",
       "  </thead>\n",
       "  <tbody>\n",
       "    <tr>\n",
       "      <th>0</th>\n",
       "      <td>XR_950596.3</td>\n",
       "      <td>10742023</td>\n",
       "      <td>10753053</td>\n",
       "      <td>LOC105379418</td>\n",
       "    </tr>\n",
       "    <tr>\n",
       "      <th>2</th>\n",
       "      <td>NR_132320.1</td>\n",
       "      <td>10940596</td>\n",
       "      <td>10961529</td>\n",
       "      <td>FRG1FP</td>\n",
       "    </tr>\n",
       "    <tr>\n",
       "      <th>3</th>\n",
       "      <td>XR_001755416.2</td>\n",
       "      <td>11825296</td>\n",
       "      <td>11834829</td>\n",
       "      <td>LOC107984037</td>\n",
       "    </tr>\n",
       "    <tr>\n",
       "      <th>4</th>\n",
       "      <td>NR_110761.1</td>\n",
       "      <td>11897405</td>\n",
       "      <td>11956534</td>\n",
       "      <td>LOC102723769</td>\n",
       "    </tr>\n",
       "    <tr>\n",
       "      <th>5</th>\n",
       "      <td>XR_002958735.1</td>\n",
       "      <td>12097954</td>\n",
       "      <td>12100246</td>\n",
       "      <td>LOC107987323</td>\n",
       "    </tr>\n",
       "  </tbody>\n",
       "</table>\n",
       "</div>"
      ],
      "text/plain": [
       "            #name   txStart     txEnd         name2\n",
       "0     XR_950596.3  10742023  10753053  LOC105379418\n",
       "2     NR_132320.1  10940596  10961529        FRG1FP\n",
       "3  XR_001755416.2  11825296  11834829  LOC107984037\n",
       "4     NR_110761.1  11897405  11956534  LOC102723769\n",
       "5  XR_002958735.1  12097954  12100246  LOC107987323"
      ]
     },
     "execution_count": 16,
     "metadata": {},
     "output_type": "execute_result"
    }
   ],
   "source": [
    "overlapped_genes = gene_df.GENE2.unique()[1:]\n",
    "nono_df = unique_genes[~unique_genes.name2.isin(overlapped_genes)] # non overlapping genes df\n",
    "nono_df.head()"
   ]
  },
  {
   "cell_type": "code",
   "execution_count": 17,
   "id": "10b7ace1",
   "metadata": {},
   "outputs": [],
   "source": [
    "nono_gene_info_d = dict(zip(zip(nono_df['txStart'],nono_df['txEnd']), nono_df.name2))"
   ]
  },
  {
   "cell_type": "code",
   "execution_count": 19,
   "id": "834f5798",
   "metadata": {},
   "outputs": [
    {
     "name": "stderr",
     "output_type": "stream",
     "text": [
      "100%|████████████████████████████████████████████████████████████████████████████████████████████████████████████████████████████████████████████████████████████████████| 1927372/1927372 [01:23<00:00, 22973.13it/s]\n"
     ]
    }
   ],
   "source": [
    "gene_df['GENE1'] = gene_df.POS.progress_map(lambda x: get_gene_coordinates(d=nono_gene_info_d,row=x))"
   ]
  },
  {
   "cell_type": "markdown",
   "id": "ed2e0496",
   "metadata": {},
   "source": [
    "### Filling in overlapping genes"
   ]
  },
  {
   "cell_type": "code",
   "execution_count": 20,
   "id": "831def59",
   "metadata": {},
   "outputs": [
    {
     "name": "stderr",
     "output_type": "stream",
     "text": [
      "5it [00:01,  2.62it/s]\n"
     ]
    }
   ],
   "source": [
    "#filling in GENE2 by using overlapping indexes\n",
    "for val, ind in tqdm(zip(all_overlap_indexes, [2,3,4,5,6])):\n",
    "    fill_gene(val, ind, df=gene_df)"
   ]
  },
  {
   "cell_type": "code",
   "execution_count": 21,
   "id": "090061b2",
   "metadata": {},
   "outputs": [
    {
     "data": {
      "text/html": [
       "<div>\n",
       "<style scoped>\n",
       "    .dataframe tbody tr th:only-of-type {\n",
       "        vertical-align: middle;\n",
       "    }\n",
       "\n",
       "    .dataframe tbody tr th {\n",
       "        vertical-align: top;\n",
       "    }\n",
       "\n",
       "    .dataframe thead th {\n",
       "        text-align: right;\n",
       "    }\n",
       "</style>\n",
       "<table border=\"1\" class=\"dataframe\">\n",
       "  <thead>\n",
       "    <tr style=\"text-align: right;\">\n",
       "      <th></th>\n",
       "      <th>POS</th>\n",
       "      <th>GENE1</th>\n",
       "      <th>GENE2</th>\n",
       "    </tr>\n",
       "  </thead>\n",
       "  <tbody>\n",
       "    <tr>\n",
       "      <th>1051101</th>\n",
       "      <td>32578530</td>\n",
       "      <td>SYN3</td>\n",
       "      <td>SYN3-AS1</td>\n",
       "    </tr>\n",
       "    <tr>\n",
       "      <th>1051102</th>\n",
       "      <td>32578534</td>\n",
       "      <td>SYN3</td>\n",
       "      <td>SYN3-AS1</td>\n",
       "    </tr>\n",
       "    <tr>\n",
       "      <th>1051103</th>\n",
       "      <td>32578570</td>\n",
       "      <td>SYN3</td>\n",
       "      <td>SYN3-AS1</td>\n",
       "    </tr>\n",
       "    <tr>\n",
       "      <th>1051104</th>\n",
       "      <td>32578588</td>\n",
       "      <td>SYN3</td>\n",
       "      <td>SYN3-AS1</td>\n",
       "    </tr>\n",
       "    <tr>\n",
       "      <th>1051105</th>\n",
       "      <td>32578670</td>\n",
       "      <td>SYN3</td>\n",
       "      <td>SYN3-AS1</td>\n",
       "    </tr>\n",
       "    <tr>\n",
       "      <th>...</th>\n",
       "      <td>...</td>\n",
       "      <td>...</td>\n",
       "      <td>...</td>\n",
       "    </tr>\n",
       "    <tr>\n",
       "      <th>1051510</th>\n",
       "      <td>32586887</td>\n",
       "      <td>SYN3</td>\n",
       "      <td>SYN3-AS1</td>\n",
       "    </tr>\n",
       "    <tr>\n",
       "      <th>1051511</th>\n",
       "      <td>32586947</td>\n",
       "      <td>SYN3</td>\n",
       "      <td>SYN3-AS1</td>\n",
       "    </tr>\n",
       "    <tr>\n",
       "      <th>1051512</th>\n",
       "      <td>32586973</td>\n",
       "      <td>SYN3</td>\n",
       "      <td>SYN3-AS1</td>\n",
       "    </tr>\n",
       "    <tr>\n",
       "      <th>1051513</th>\n",
       "      <td>32586988</td>\n",
       "      <td>SYN3</td>\n",
       "      <td>SYN3-AS1</td>\n",
       "    </tr>\n",
       "    <tr>\n",
       "      <th>1051514</th>\n",
       "      <td>32586997</td>\n",
       "      <td>SYN3</td>\n",
       "      <td>SYN3-AS1</td>\n",
       "    </tr>\n",
       "  </tbody>\n",
       "</table>\n",
       "<p>414 rows × 3 columns</p>\n",
       "</div>"
      ],
      "text/plain": [
       "              POS GENE1     GENE2\n",
       "1051101  32578530  SYN3  SYN3-AS1\n",
       "1051102  32578534  SYN3  SYN3-AS1\n",
       "1051103  32578570  SYN3  SYN3-AS1\n",
       "1051104  32578588  SYN3  SYN3-AS1\n",
       "1051105  32578670  SYN3  SYN3-AS1\n",
       "...           ...   ...       ...\n",
       "1051510  32586887  SYN3  SYN3-AS1\n",
       "1051511  32586947  SYN3  SYN3-AS1\n",
       "1051512  32586973  SYN3  SYN3-AS1\n",
       "1051513  32586988  SYN3  SYN3-AS1\n",
       "1051514  32586997  SYN3  SYN3-AS1\n",
       "\n",
       "[414 rows x 3 columns]"
      ]
     },
     "execution_count": 21,
     "metadata": {},
     "output_type": "execute_result"
    }
   ],
   "source": [
    "gene_df[(gene_df.POS >= 32578528) & (gene_df.POS <= 32587011)]"
   ]
  },
  {
   "cell_type": "code",
   "execution_count": 22,
   "id": "d21017ae",
   "metadata": {},
   "outputs": [
    {
     "data": {
      "text/html": [
       "<div>\n",
       "<style scoped>\n",
       "    .dataframe tbody tr th:only-of-type {\n",
       "        vertical-align: middle;\n",
       "    }\n",
       "\n",
       "    .dataframe tbody tr th {\n",
       "        vertical-align: top;\n",
       "    }\n",
       "\n",
       "    .dataframe thead th {\n",
       "        text-align: right;\n",
       "    }\n",
       "</style>\n",
       "<table border=\"1\" class=\"dataframe\">\n",
       "  <thead>\n",
       "    <tr style=\"text-align: right;\">\n",
       "      <th></th>\n",
       "      <th>POS</th>\n",
       "      <th>GENE1</th>\n",
       "      <th>GENE2</th>\n",
       "    </tr>\n",
       "  </thead>\n",
       "  <tbody>\n",
       "    <tr>\n",
       "      <th>249491</th>\n",
       "      <td>15700402</td>\n",
       "      <td>POTEH</td>\n",
       "      <td>POTEH-AS1</td>\n",
       "    </tr>\n",
       "    <tr>\n",
       "      <th>249492</th>\n",
       "      <td>15700435</td>\n",
       "      <td>POTEH</td>\n",
       "      <td>POTEH-AS1</td>\n",
       "    </tr>\n",
       "    <tr>\n",
       "      <th>249493</th>\n",
       "      <td>15700446</td>\n",
       "      <td>POTEH</td>\n",
       "      <td>POTEH-AS1</td>\n",
       "    </tr>\n",
       "    <tr>\n",
       "      <th>249494</th>\n",
       "      <td>15700505</td>\n",
       "      <td>POTEH</td>\n",
       "      <td>POTEH-AS1</td>\n",
       "    </tr>\n",
       "    <tr>\n",
       "      <th>249495</th>\n",
       "      <td>15700512</td>\n",
       "      <td>POTEH</td>\n",
       "      <td>POTEH-AS1</td>\n",
       "    </tr>\n",
       "    <tr>\n",
       "      <th>...</th>\n",
       "      <td>...</td>\n",
       "      <td>...</td>\n",
       "      <td>...</td>\n",
       "    </tr>\n",
       "    <tr>\n",
       "      <th>1925568</th>\n",
       "      <td>50783645</td>\n",
       "      <td>RPL23AP82</td>\n",
       "      <td>RABL2B</td>\n",
       "    </tr>\n",
       "    <tr>\n",
       "      <th>1925569</th>\n",
       "      <td>50783652</td>\n",
       "      <td>RPL23AP82</td>\n",
       "      <td>RABL2B</td>\n",
       "    </tr>\n",
       "    <tr>\n",
       "      <th>1925570</th>\n",
       "      <td>50783654</td>\n",
       "      <td>RPL23AP82</td>\n",
       "      <td>RABL2B</td>\n",
       "    </tr>\n",
       "    <tr>\n",
       "      <th>1925571</th>\n",
       "      <td>50783672</td>\n",
       "      <td>RPL23AP82</td>\n",
       "      <td>RABL2B</td>\n",
       "    </tr>\n",
       "    <tr>\n",
       "      <th>1925572</th>\n",
       "      <td>50783678</td>\n",
       "      <td>RPL23AP82</td>\n",
       "      <td>RABL2B</td>\n",
       "    </tr>\n",
       "  </tbody>\n",
       "</table>\n",
       "<p>148615 rows × 3 columns</p>\n",
       "</div>"
      ],
      "text/plain": [
       "              POS      GENE1      GENE2\n",
       "249491   15700402      POTEH  POTEH-AS1\n",
       "249492   15700435      POTEH  POTEH-AS1\n",
       "249493   15700446      POTEH  POTEH-AS1\n",
       "249494   15700505      POTEH  POTEH-AS1\n",
       "249495   15700512      POTEH  POTEH-AS1\n",
       "...           ...        ...        ...\n",
       "1925568  50783645  RPL23AP82     RABL2B\n",
       "1925569  50783652  RPL23AP82     RABL2B\n",
       "1925570  50783654  RPL23AP82     RABL2B\n",
       "1925571  50783672  RPL23AP82     RABL2B\n",
       "1925572  50783678  RPL23AP82     RABL2B\n",
       "\n",
       "[148615 rows x 3 columns]"
      ]
     },
     "execution_count": 22,
     "metadata": {},
     "output_type": "execute_result"
    }
   ],
   "source": [
    "gene_df[~gene_df.GENE2.isnull()]"
   ]
  },
  {
   "cell_type": "code",
   "execution_count": 23,
   "id": "b1615635",
   "metadata": {},
   "outputs": [],
   "source": [
    "final_data = gene_df.iloc[:,1:]\n",
    "df_to_zarr(final_data, '../data/GENE.zarr/')"
   ]
  },
  {
   "cell_type": "code",
   "execution_count": 24,
   "id": "f9e4bbd8",
   "metadata": {
    "scrolled": true
   },
   "outputs": [
    {
     "data": {
      "text/plain": [
       "GENE1    974965\n",
       "GENE2    148615\n",
       "dtype: int64"
      ]
     },
     "execution_count": 24,
     "metadata": {},
     "output_type": "execute_result"
    }
   ],
   "source": [
    "final_data.count()"
   ]
  }
 ],
 "metadata": {
  "kernelspec": {
   "display_name": "Python 3 (ipykernel)",
   "language": "python",
   "name": "python3"
  },
  "language_info": {
   "codemirror_mode": {
    "name": "ipython",
    "version": 3
   },
   "file_extension": ".py",
   "mimetype": "text/x-python",
   "name": "python",
   "nbconvert_exporter": "python",
   "pygments_lexer": "ipython3",
   "version": "3.9.7"
  },
  "toc": {
   "base_numbering": 1,
   "nav_menu": {},
   "number_sections": true,
   "sideBar": true,
   "skip_h1_title": false,
   "title_cell": "Table of Contents",
   "title_sidebar": "Contents",
   "toc_cell": false,
   "toc_position": {},
   "toc_section_display": true,
   "toc_window_display": false
  }
 },
 "nbformat": 4,
 "nbformat_minor": 5
}
