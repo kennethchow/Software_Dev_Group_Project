{
 "cells": [
  {
   "cell_type": "markdown",
   "id": "914ef33f",
   "metadata": {},
   "source": [
    "## Imports"
   ]
  },
  {
   "cell_type": "code",
   "execution_count": 1,
   "id": "8ce2838d",
   "metadata": {},
   "outputs": [],
   "source": [
    "import allel\n",
    "import sys\n",
    "import numpy as np\n",
    "import zarr\n",
    "import numcodecs\n",
    "import matplotlib.pyplot as plt\n",
    "import seaborn as sns\n",
    "import pandas as pd\n",
    "\n",
    "%matplotlib inline"
   ]
  },
  {
   "cell_type": "code",
   "execution_count": 2,
   "id": "9b4b94fa",
   "metadata": {},
   "outputs": [],
   "source": [
    "def df_to_zarr(df, path):\n",
    "    for i in range(len(df.columns)):\n",
    "\n",
    "        # Saving each column array to a separate zarr folder:\n",
    "        col_name = df.columns[i]\n",
    "        array = df[col_name].values\n",
    "\n",
    "        # If dtype of array is object, save it as a string array instead:\n",
    "        if array.dtype == 'O':\n",
    "            array = array.astype('U')\n",
    "\n",
    "        # Changing folder name according to col. name:\n",
    "        save_loc = path + col_name\n",
    "        zarr.save(save_loc, array)"
   ]
  },
  {
   "cell_type": "markdown",
   "id": "5362d15a",
   "metadata": {},
   "source": [
    "## Extract Zarr"
   ]
  },
  {
   "cell_type": "code",
   "execution_count": 3,
   "id": "a479570b",
   "metadata": {},
   "outputs": [],
   "source": [
    "zarr_path = '../data/ALL_30X_Chr22_GR38.zarr/'"
   ]
  },
  {
   "cell_type": "code",
   "execution_count": 4,
   "id": "81cb6791",
   "metadata": {},
   "outputs": [
    {
     "data": {
      "text/plain": [
       "<zarr.hierarchy.Group '/'>"
      ]
     },
     "execution_count": 4,
     "metadata": {},
     "output_type": "execute_result"
    }
   ],
   "source": [
    "# Create callset group:\n",
    "callset_h1k = zarr.open_group(zarr_path)\n",
    "callset_h1k"
   ]
  },
  {
   "cell_type": "code",
   "execution_count": 5,
   "id": "9a49ce30",
   "metadata": {
    "scrolled": false
   },
   "outputs": [
    {
     "data": {
      "application/vnd.jupyter.widget-view+json": {
       "model_id": "a920fcba79fa40f7bc23c0a6b00ea5c3",
       "version_major": 2,
       "version_minor": 0
      },
      "text/plain": [
       "Tree(nodes=(Node(disabled=True, name='/', nodes=(Node(disabled=True, name='22', nodes=(Node(disabled=True, nam…"
      ]
     },
     "metadata": {},
     "output_type": "display_data"
    }
   ],
   "source": [
    "callset_h1k.tree(expand=True)"
   ]
  },
  {
   "cell_type": "markdown",
   "id": "1d1eec7a",
   "metadata": {},
   "source": [
    "# Generating dataframes from arrays for easier wrangling"
   ]
  },
  {
   "cell_type": "code",
   "execution_count": 6,
   "id": "20b4b371",
   "metadata": {},
   "outputs": [],
   "source": [
    "chrom = \"22\"\n",
    "calldata = callset_h1k[chrom]['calldata']\n",
    "variants = callset_h1k[chrom]['variants']"
   ]
  },
  {
   "cell_type": "code",
   "execution_count": 7,
   "id": "8b106660",
   "metadata": {},
   "outputs": [],
   "source": [
    "countries = ['AFR', 'AMR', 'EAS', 'EUR', 'SAS']"
   ]
  },
  {
   "cell_type": "code",
   "execution_count": 8,
   "id": "d9bdbc93",
   "metadata": {},
   "outputs": [
    {
     "data": {
      "text/html": [
       "<div>\n",
       "<style scoped>\n",
       "    .dataframe tbody tr th:only-of-type {\n",
       "        vertical-align: middle;\n",
       "    }\n",
       "\n",
       "    .dataframe tbody tr th {\n",
       "        vertical-align: top;\n",
       "    }\n",
       "\n",
       "    .dataframe thead th {\n",
       "        text-align: right;\n",
       "    }\n",
       "</style>\n",
       "<table border=\"1\" class=\"dataframe\">\n",
       "  <thead>\n",
       "    <tr style=\"text-align: right;\">\n",
       "      <th></th>\n",
       "      <th>AC_Het_AFR_unrel</th>\n",
       "      <th>AC_Het_AMR_unrel</th>\n",
       "      <th>AC_Het_EAS_unrel</th>\n",
       "      <th>AC_Het_EUR_unrel</th>\n",
       "      <th>AC_Het_SAS_unrel</th>\n",
       "    </tr>\n",
       "  </thead>\n",
       "  <tbody>\n",
       "    <tr>\n",
       "      <th>0</th>\n",
       "      <td>0</td>\n",
       "      <td>0</td>\n",
       "      <td>0</td>\n",
       "      <td>0</td>\n",
       "      <td>1</td>\n",
       "    </tr>\n",
       "    <tr>\n",
       "      <th>1</th>\n",
       "      <td>0</td>\n",
       "      <td>0</td>\n",
       "      <td>1</td>\n",
       "      <td>0</td>\n",
       "      <td>0</td>\n",
       "    </tr>\n",
       "    <tr>\n",
       "      <th>2</th>\n",
       "      <td>0</td>\n",
       "      <td>1</td>\n",
       "      <td>0</td>\n",
       "      <td>0</td>\n",
       "      <td>0</td>\n",
       "    </tr>\n",
       "    <tr>\n",
       "      <th>3</th>\n",
       "      <td>0</td>\n",
       "      <td>0</td>\n",
       "      <td>0</td>\n",
       "      <td>0</td>\n",
       "      <td>0</td>\n",
       "    </tr>\n",
       "    <tr>\n",
       "      <th>4</th>\n",
       "      <td>0</td>\n",
       "      <td>0</td>\n",
       "      <td>0</td>\n",
       "      <td>0</td>\n",
       "      <td>0</td>\n",
       "    </tr>\n",
       "  </tbody>\n",
       "</table>\n",
       "</div>"
      ],
      "text/plain": [
       "   AC_Het_AFR_unrel  AC_Het_AMR_unrel  AC_Het_EAS_unrel  AC_Het_EUR_unrel  \\\n",
       "0                 0                 0                 0                 0   \n",
       "1                 0                 0                 1                 0   \n",
       "2                 0                 1                 0                 0   \n",
       "3                 0                 0                 0                 0   \n",
       "4                 0                 0                 0                 0   \n",
       "\n",
       "   AC_Het_SAS_unrel  \n",
       "0                 1  \n",
       "1                 0  \n",
       "2                 0  \n",
       "3                 0  \n",
       "4                 0  "
      ]
     },
     "execution_count": 8,
     "metadata": {},
     "output_type": "execute_result"
    }
   ],
   "source": [
    "# heterozygous allele counts i.e. REF|ALT or ALT|REF counts by superpopulation \n",
    "ac_het = [f'AC_Het_{country}_unrel' for country in countries]\n",
    "het_data = [[x[0] for x in variants[col][:]] for col in ac_het]\n",
    "AC_het_df = pd.DataFrame({ac_het[i]: het_data[i] for i in range(len(ac_het))})\n",
    "AC_het_df.head()"
   ]
  },
  {
   "cell_type": "code",
   "execution_count": 9,
   "id": "e3a72178",
   "metadata": {
    "scrolled": true
   },
   "outputs": [
    {
     "data": {
      "text/html": [
       "<div>\n",
       "<style scoped>\n",
       "    .dataframe tbody tr th:only-of-type {\n",
       "        vertical-align: middle;\n",
       "    }\n",
       "\n",
       "    .dataframe tbody tr th {\n",
       "        vertical-align: top;\n",
       "    }\n",
       "\n",
       "    .dataframe thead th {\n",
       "        text-align: right;\n",
       "    }\n",
       "</style>\n",
       "<table border=\"1\" class=\"dataframe\">\n",
       "  <thead>\n",
       "    <tr style=\"text-align: right;\">\n",
       "      <th></th>\n",
       "      <th>AC_Hom_AFR_unrel</th>\n",
       "      <th>AC_Hom_AMR_unrel</th>\n",
       "      <th>AC_Hom_EAS_unrel</th>\n",
       "      <th>AC_Hom_EUR_unrel</th>\n",
       "      <th>AC_Hom_SAS_unrel</th>\n",
       "    </tr>\n",
       "  </thead>\n",
       "  <tbody>\n",
       "    <tr>\n",
       "      <th>0</th>\n",
       "      <td>0</td>\n",
       "      <td>0</td>\n",
       "      <td>0</td>\n",
       "      <td>0</td>\n",
       "      <td>0</td>\n",
       "    </tr>\n",
       "    <tr>\n",
       "      <th>1</th>\n",
       "      <td>0</td>\n",
       "      <td>0</td>\n",
       "      <td>0</td>\n",
       "      <td>0</td>\n",
       "      <td>0</td>\n",
       "    </tr>\n",
       "    <tr>\n",
       "      <th>2</th>\n",
       "      <td>0</td>\n",
       "      <td>0</td>\n",
       "      <td>0</td>\n",
       "      <td>0</td>\n",
       "      <td>0</td>\n",
       "    </tr>\n",
       "    <tr>\n",
       "      <th>3</th>\n",
       "      <td>2</td>\n",
       "      <td>2</td>\n",
       "      <td>0</td>\n",
       "      <td>0</td>\n",
       "      <td>0</td>\n",
       "    </tr>\n",
       "    <tr>\n",
       "      <th>4</th>\n",
       "      <td>0</td>\n",
       "      <td>0</td>\n",
       "      <td>0</td>\n",
       "      <td>0</td>\n",
       "      <td>2</td>\n",
       "    </tr>\n",
       "  </tbody>\n",
       "</table>\n",
       "</div>"
      ],
      "text/plain": [
       "   AC_Hom_AFR_unrel  AC_Hom_AMR_unrel  AC_Hom_EAS_unrel  AC_Hom_EUR_unrel  \\\n",
       "0                 0                 0                 0                 0   \n",
       "1                 0                 0                 0                 0   \n",
       "2                 0                 0                 0                 0   \n",
       "3                 2                 2                 0                 0   \n",
       "4                 0                 0                 0                 0   \n",
       "\n",
       "   AC_Hom_SAS_unrel  \n",
       "0                 0  \n",
       "1                 0  \n",
       "2                 0  \n",
       "3                 0  \n",
       "4                 2  "
      ]
     },
     "execution_count": 9,
     "metadata": {},
     "output_type": "execute_result"
    }
   ],
   "source": [
    "# homozygous allele counts i.e. ALT|ALT by superpopulation\n",
    "ac_hom = [f'AC_Hom_{country}_unrel' for country in countries]\n",
    "hom_data = [[x[0] for x in variants[col][:]] for col in ac_hom]\n",
    "AC_hom_df = pd.DataFrame({ac_hom[i]: hom_data[i] for i in range(len(ac_hom))})\n",
    "AC_hom_df.head()"
   ]
  },
  {
   "cell_type": "code",
   "execution_count": 10,
   "id": "b3b87e1c",
   "metadata": {},
   "outputs": [],
   "source": [
    "# retrieving population data for sample counts by superpopulation\n",
    "pop_data = pd.read_csv('../data/integrated_call_samples_v3.20130502.ALL.panel', sep = '\\t')\n",
    "# Drop any Unnamed columns:\n",
    "pop_data = pop_data.loc[:, ~pop_data.columns.str.contains('^Unnamed')]"
   ]
  },
  {
   "cell_type": "code",
   "execution_count": 11,
   "id": "41514d29",
   "metadata": {},
   "outputs": [
    {
     "data": {
      "text/plain": [
       "{'AFR': 661, 'EAS': 504, 'EUR': 503, 'SAS': 489, 'AMR': 347}"
      ]
     },
     "execution_count": 11,
     "metadata": {},
     "output_type": "execute_result"
    }
   ],
   "source": [
    "population_totals = pop_data['super_pop'].value_counts().to_dict()\n",
    "population_totals"
   ]
  },
  {
   "cell_type": "markdown",
   "id": "52512a05",
   "metadata": {},
   "source": [
    "### Calculating ALT allele frequency using ALT allele counts\n",
    "\n",
    "1. 1 x heterozygous count because each het individual has 1 copy of ALT allele\n",
    "2. 2 x homozygous count bc each homo individual has 2 copies of ALT allele\n",
    "3. Dividing sum of 1. and 2. by 2 x size of population as each individual has 2 alleles therefore total number alleles is 2 x population.\n"
   ]
  },
  {
   "cell_type": "code",
   "execution_count": 12,
   "id": "c8f6383d",
   "metadata": {
    "scrolled": true
   },
   "outputs": [
    {
     "data": {
      "text/html": [
       "<div>\n",
       "<style scoped>\n",
       "    .dataframe tbody tr th:only-of-type {\n",
       "        vertical-align: middle;\n",
       "    }\n",
       "\n",
       "    .dataframe tbody tr th {\n",
       "        vertical-align: top;\n",
       "    }\n",
       "\n",
       "    .dataframe thead th {\n",
       "        text-align: right;\n",
       "    }\n",
       "</style>\n",
       "<table border=\"1\" class=\"dataframe\">\n",
       "  <thead>\n",
       "    <tr style=\"text-align: right;\">\n",
       "      <th></th>\n",
       "      <th>ALT_AF_AFR</th>\n",
       "      <th>ALT_AF_AMR</th>\n",
       "      <th>ALT_AF_EAS</th>\n",
       "      <th>ALT_AF_EUR</th>\n",
       "      <th>ALT_AF_SAS</th>\n",
       "    </tr>\n",
       "  </thead>\n",
       "  <tbody>\n",
       "    <tr>\n",
       "      <th>0</th>\n",
       "      <td>0.000000</td>\n",
       "      <td>0.000000</td>\n",
       "      <td>0.000000</td>\n",
       "      <td>0.0</td>\n",
       "      <td>0.001022</td>\n",
       "    </tr>\n",
       "    <tr>\n",
       "      <th>1</th>\n",
       "      <td>0.000000</td>\n",
       "      <td>0.000000</td>\n",
       "      <td>0.000992</td>\n",
       "      <td>0.0</td>\n",
       "      <td>0.000000</td>\n",
       "    </tr>\n",
       "    <tr>\n",
       "      <th>2</th>\n",
       "      <td>0.000000</td>\n",
       "      <td>0.001441</td>\n",
       "      <td>0.000000</td>\n",
       "      <td>0.0</td>\n",
       "      <td>0.000000</td>\n",
       "    </tr>\n",
       "    <tr>\n",
       "      <th>3</th>\n",
       "      <td>0.003026</td>\n",
       "      <td>0.005764</td>\n",
       "      <td>0.000000</td>\n",
       "      <td>0.0</td>\n",
       "      <td>0.000000</td>\n",
       "    </tr>\n",
       "    <tr>\n",
       "      <th>4</th>\n",
       "      <td>0.000000</td>\n",
       "      <td>0.000000</td>\n",
       "      <td>0.000000</td>\n",
       "      <td>0.0</td>\n",
       "      <td>0.004090</td>\n",
       "    </tr>\n",
       "  </tbody>\n",
       "</table>\n",
       "</div>"
      ],
      "text/plain": [
       "   ALT_AF_AFR  ALT_AF_AMR  ALT_AF_EAS  ALT_AF_EUR  ALT_AF_SAS\n",
       "0    0.000000    0.000000    0.000000         0.0    0.001022\n",
       "1    0.000000    0.000000    0.000992         0.0    0.000000\n",
       "2    0.000000    0.001441    0.000000         0.0    0.000000\n",
       "3    0.003026    0.005764    0.000000         0.0    0.000000\n",
       "4    0.000000    0.000000    0.000000         0.0    0.004090"
      ]
     },
     "execution_count": 12,
     "metadata": {},
     "output_type": "execute_result"
    }
   ],
   "source": [
    "alt_freq_cols = [f'ALT_AF_{country}' for country in countries]\n",
    "alt_freq_data = [((AC_het_df[het_col]) + (2*AC_hom_df[hom_col]))/(population_totals[het_col[7:10]]*2) \n",
    " for het_col, hom_col in zip(ac_het, ac_hom)]\n",
    "alt_freq_df = pd.DataFrame({alt_freq_cols[i]: alt_freq_data[i] for i in range(len(alt_freq_cols))})\n",
    "alt_freq_df.head()"
   ]
  },
  {
   "cell_type": "markdown",
   "id": "5a5194ca",
   "metadata": {},
   "source": [
    "### Calculating genotype frequency from allele frequency\n",
    "\n",
    "1. Given the ALT allele frequency, REF allele frquency = 1 - ALT allele frequency\n",
    "2. Hardy-Weinberg law states that p^2 + 2pq + q^2 = 1 where p = REF allele freq and q = ALT allele freq therefore\n",
    "3. Expected genotype frequency of ALT allele = (allele counts)^2 other GT freqs calculated using 1-x logic"
   ]
  },
  {
   "cell_type": "markdown",
   "id": "6787c509",
   "metadata": {},
   "source": [
    "* expected homozygous alt genotype frequency is alt allele frequency squared\n",
    "* expected homozygous ref genotype frequency is (1 - alt allele frequency)^2\n",
    "* expected heterozygous genotype frequency is (1 - sum of homozygous GF)"
   ]
  },
  {
   "cell_type": "code",
   "execution_count": 13,
   "id": "e392330c",
   "metadata": {},
   "outputs": [],
   "source": [
    "homozygous_alt_GT_freq = alt_freq_df.apply(lambda x: x**2)\n",
    "homozygous_ref_GT_freq = alt_freq_df.apply(lambda x: (1-x)**2)\n",
    "heterozygous_GT_freq = (homozygous_alt_GT_freq + homozygous_ref_GT_freq).apply(lambda x: 1-x)"
   ]
  },
  {
   "cell_type": "code",
   "execution_count": 14,
   "id": "6630d370",
   "metadata": {},
   "outputs": [],
   "source": [
    "homozygous_alt_GT_freq.columns = [f'GT_FREQ_HOM_ALT_{x}' for x in countries]\n",
    "homozygous_ref_GT_freq.columns = [f'GT_FREQ_HOM_REF_{x}' for x in countries]\n",
    "heterozygous_GT_freq.columns = [f'GT_FREQ_HET_{x}' for x in countries]"
   ]
  },
  {
   "cell_type": "markdown",
   "id": "a7384418",
   "metadata": {},
   "source": [
    "## Saving files to zarr"
   ]
  },
  {
   "cell_type": "code",
   "execution_count": 15,
   "id": "4b428023",
   "metadata": {},
   "outputs": [],
   "source": [
    "final_data = pd.concat([homozygous_ref_GT_freq, heterozygous_GT_freq, homozygous_alt_GT_freq], axis =1)"
   ]
  },
  {
   "cell_type": "code",
   "execution_count": 16,
   "id": "5f2df522",
   "metadata": {},
   "outputs": [],
   "source": [
    "df_to_zarr(df=final_data, path = '../data/GF.zarr/')"
   ]
  },
  {
   "cell_type": "code",
   "execution_count": 17,
   "id": "3714cc6f",
   "metadata": {},
   "outputs": [
    {
     "data": {
      "text/plain": [
       "GT_FREQ_HOM_REF_AFR    1927372\n",
       "GT_FREQ_HOM_REF_AMR    1927372\n",
       "GT_FREQ_HOM_REF_EAS    1927372\n",
       "GT_FREQ_HOM_REF_EUR    1927372\n",
       "GT_FREQ_HOM_REF_SAS    1927372\n",
       "GT_FREQ_HET_AFR        1927372\n",
       "GT_FREQ_HET_AMR        1927372\n",
       "GT_FREQ_HET_EAS        1927372\n",
       "GT_FREQ_HET_EUR        1927372\n",
       "GT_FREQ_HET_SAS        1927372\n",
       "GT_FREQ_HOM_ALT_AFR    1927372\n",
       "GT_FREQ_HOM_ALT_AMR    1927372\n",
       "GT_FREQ_HOM_ALT_EAS    1927372\n",
       "GT_FREQ_HOM_ALT_EUR    1927372\n",
       "GT_FREQ_HOM_ALT_SAS    1927372\n",
       "dtype: int64"
      ]
     },
     "execution_count": 17,
     "metadata": {},
     "output_type": "execute_result"
    }
   ],
   "source": [
    "final_data.count()"
   ]
  }
 ],
 "metadata": {
  "kernelspec": {
   "display_name": "Python 3 (ipykernel)",
   "language": "python",
   "name": "python3"
  },
  "language_info": {
   "codemirror_mode": {
    "name": "ipython",
    "version": 3
   },
   "file_extension": ".py",
   "mimetype": "text/x-python",
   "name": "python",
   "nbconvert_exporter": "python",
   "pygments_lexer": "ipython3",
   "version": "3.9.7"
  },
  "toc": {
   "base_numbering": 1,
   "nav_menu": {},
   "number_sections": true,
   "sideBar": true,
   "skip_h1_title": false,
   "title_cell": "Table of Contents",
   "title_sidebar": "Contents",
   "toc_cell": false,
   "toc_position": {
    "height": "calc(100% - 180px)",
    "left": "10px",
    "top": "150px",
    "width": "360.455px"
   },
   "toc_section_display": true,
   "toc_window_display": true
  }
 },
 "nbformat": 4,
 "nbformat_minor": 5
}
